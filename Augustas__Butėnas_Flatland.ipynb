{
  "nbformat": 4,
  "nbformat_minor": 0,
  "metadata": {
    "colab": {
      "provenance": [],
      "gpuType": "T4"
    },
    "kernelspec": {
      "name": "python3",
      "display_name": "Python 3"
    },
    "language_info": {
      "name": "python"
    },
    "accelerator": "GPU"
  },
  "cells": [
    {
      "cell_type": "code",
      "execution_count": 1,
      "metadata": {
        "id": "cdxSyjVhk0Uu"
      },
      "outputs": [],
      "source": [
        "import numpy as np\n",
        "from sklearn.model_selection import train_test_split\n",
        "import pickle, gzip\n",
        "import torch\n",
        "import torch.nn as nn\n",
        "import torch.nn.functional as F\n",
        "import torch.optim as optim\n",
        "from torch.utils.data import Dataset, DataLoader, TensorDataset\n",
        "from torchvision import datasets, transforms"
      ]
    },
    {
      "cell_type": "code",
      "source": [
        "X, y = pickle.load(gzip.open(\"flatland_train.data\", 'rb'))"
      ],
      "metadata": {
        "id": "xTW2iKKJDD61"
      },
      "execution_count": 115,
      "outputs": []
    },
    {
      "cell_type": "code",
      "source": [
        "y[y!=0] -= 2"
      ],
      "metadata": {
        "id": "t6XKksIFJ-mC"
      },
      "execution_count": 116,
      "outputs": []
    },
    {
      "cell_type": "code",
      "source": [
        "X = X / 255.0\n",
        "X = np.expand_dims(X, axis=1)"
      ],
      "metadata": {
        "id": "7l17YSblJ0AP"
      },
      "execution_count": 117,
      "outputs": []
    },
    {
      "cell_type": "code",
      "source": [
        "# Train/test split\n",
        "X_train, X_test, y_train, y_test = train_test_split(\n",
        "    X, y,\n",
        "    test_size=0.3, random_state=36, shuffle=True)\n",
        "\n",
        "# Convert them to PyTorch tensors\n",
        "X_train_tensor = torch.tensor(X_train, dtype=torch.float32)\n",
        "y_train_tensor = torch.tensor(y_train, dtype=torch.long)\n",
        "X_test_tensor = torch.tensor(X_test, dtype=torch.float32)\n",
        "y_test_tensor = torch.tensor(y_test, dtype=torch.long)"
      ],
      "metadata": {
        "id": "O5-H2h0ZHsIm"
      },
      "execution_count": 118,
      "outputs": []
    },
    {
      "cell_type": "code",
      "source": [
        "# Define augmentation pipeline\n",
        "data_augmentation = transforms.Compose([\n",
        "    #transforms.RandomRotation(degrees=(-10, 10)),   # Rotate images\n",
        "    transforms.RandomHorizontalFlip(),  # Horizontal flip\n",
        "    transforms.RandomVerticalFlip(),    # Vertical flip\n",
        "])\n",
        "\n",
        "# Define a function to apply augmentation\n",
        "def augment_dataset(dataset, num_augments=3):\n",
        "    augmented_X, augmented_y = [], []\n",
        "    for X_img, y_label in dataset:\n",
        "        # Apply augmentation multiple times\n",
        "        for _ in range(num_augments):\n",
        "            augmented_X.append(data_augmentation(X_img))\n",
        "            augmented_y.append(y_label)\n",
        "\n",
        "    return torch.stack(augmented_X), torch.tensor(augmented_y)"
      ],
      "metadata": {
        "id": "G3AAN7zcFYRM"
      },
      "execution_count": 119,
      "outputs": []
    },
    {
      "cell_type": "code",
      "source": [
        "dataset = TensorDataset(X_train_tensor, y_train_tensor)"
      ],
      "metadata": {
        "id": "pEIxU1XaGB0h"
      },
      "execution_count": 120,
      "outputs": []
    },
    {
      "cell_type": "code",
      "source": [
        "X_train_tensor_new, y_train_tensor_new = augment_dataset(dataset)"
      ],
      "metadata": {
        "id": "funwSRNfFn-C"
      },
      "execution_count": 121,
      "outputs": []
    },
    {
      "cell_type": "code",
      "source": [
        "X_train_tensor = torch.cat((X_train_tensor, X_train_tensor_new), dim=0)\n",
        "y_train_tensor = torch.cat((y_train_tensor, y_train_tensor_new), dim=0)"
      ],
      "metadata": {
        "id": "7i9xtnEHJk3D"
      },
      "execution_count": 122,
      "outputs": []
    },
    {
      "cell_type": "code",
      "source": [
        "import matplotlib.pyplot as plt\n",
        "first_image = X_train_tensor[4].squeeze()\n",
        "plt.imshow(first_image.numpy(), cmap='gray')\n",
        "plt.show()"
      ],
      "metadata": {
        "colab": {
          "base_uri": "https://localhost:8080/",
          "height": 432
        },
        "id": "Qrg_8artLVdK",
        "outputId": "39c1035b-2e5d-4e1c-df7f-31ed9772ce98"
      },
      "execution_count": 15,
      "outputs": [
        {
          "output_type": "display_data",
          "data": {
            "text/plain": [
              "<Figure size 640x480 with 1 Axes>"
            ],
            "image/png": "[encoded data removed]"
          },
          "metadata": {}
        }
      ]
    },
    {
      "cell_type": "code",
      "source": [
        "first_image = X_train_tensor_new[2].squeeze()\n",
        "plt.imshow(first_image.numpy(), cmap='gray')\n",
        "plt.show()"
      ],
      "metadata": {
        "colab": {
          "base_uri": "https://localhost:8080/",
          "height": 432
        },
        "id": "iSYsWXOBK3bm",
        "outputId": "e0e9c8c8-de5a-4843-9d7c-ae898e832121"
      },
      "execution_count": null,
      "outputs": [
        {
          "output_type": "display_data",
          "data": {
            "text/plain": [
              "<Figure size 640x480 with 1 Axes>"
            ],
            "image/png": "[encoded data removed]"
          },
          "metadata": {}
        }
      ]
    },
    {
      "cell_type": "code",
      "source": [
        "# Create DataLoader objects for batching\n",
        "train_dataset = TensorDataset(X_train_tensor, y_train_tensor)\n",
        "test_dataset = TensorDataset(X_test_tensor, y_test_tensor)\n",
        "\n",
        "train_loader = DataLoader(train_dataset, batch_size=100, shuffle=True)\n",
        "test_loader = DataLoader(test_dataset, batch_size=100, shuffle=False)"
      ],
      "metadata": {
        "id": "jBzCiVw6GjxO"
      },
      "execution_count": 125,
      "outputs": []
    },
    {
      "cell_type": "code",
      "source": [
        "device = \"cuda\"  #'cpu'"
      ],
      "metadata": {
        "id": "BYMgVmXiOLA7"
      },
      "execution_count": 126,
      "outputs": []
    },
    {
      "cell_type": "code",
      "source": [
        "class SmallNet(nn.Module):\n",
        "    def __init__(self):\n",
        "        super(SmallNet, self).__init__()\n",
        "        # Convolutional layers\n",
        "        self.conv1 = nn.Conv2d(1, 8, kernel_size=3, padding=1)\n",
        "        self.bn1 = nn.BatchNorm2d(8)\n",
        "        self.conv2 = nn.Conv2d(8, 16, kernel_size=3, padding=1)\n",
        "        self.bn2 = nn.BatchNorm2d(16)\n",
        "        self.pool = nn.MaxPool2d(2, 2)\n",
        "        self.conv3 = nn.Conv2d(16, 16, kernel_size=3, padding=1)\n",
        "        self.bn3 = nn.BatchNorm2d(16)\n",
        "        # Dense layers\n",
        "        self.fc1 = nn.Linear(16*12*12, 32)   # Adjusted for the output size after conv and pooling layers\n",
        "        self.dropout = nn.Dropout(0.3)\n",
        "        self.fc2 = nn.Linear(32, 5)\n",
        "\n",
        "    def forward(self, x):\n",
        "        x = F.relu(self.bn1(self.conv1(x)))\n",
        "        x = F.relu(self.bn2(self.conv2(x)))\n",
        "        x = self.pool(x)\n",
        "        x = F.relu(self.bn3(self.conv3(x)))\n",
        "        x = self.pool(x)\n",
        "        x = torch.flatten(x, 1)  # Flatten all dimensions except batch\n",
        "        x = F.relu(self.fc1(x))\n",
        "        x = self.dropout(x)\n",
        "        x = self.fc2(x)\n",
        "        x = F.softmax(x, dim=1)\n",
        "        return x\n",
        "\n",
        "snet = SmallNet().to(device)\n",
        "\n",
        "# Loss function and optimizer\n",
        "criterion_f = nn.CrossEntropyLoss()\n",
        "optimizer_f = optim.Adadelta(snet.parameters())"
      ],
      "metadata": {
        "id": "dWPbhsu-5tjy"
      },
      "execution_count": 152,
      "outputs": []
    },
    {
      "cell_type": "code",
      "source": [
        "snet.train()\n",
        "epochs = 20\n",
        "losses = []\n",
        "for epoch in range(epochs):\n",
        "    running_loss = 0.0\n",
        "    for images, labels in train_loader:\n",
        "        images, labels = images.to(device), labels.to(device)\n",
        "\n",
        "        optimizer_f.zero_grad()\n",
        "        outputs = snet(images)\n",
        "        loss = criterion_f(outputs, labels)\n",
        "        loss.backward()\n",
        "        optimizer_f.step()\n",
        "\n",
        "        running_loss += loss.item()\n",
        "    losses.append(running_loss / len(train_loader))\n",
        "    print(f\"Epoch {epoch+1}, Loss: {running_loss/len(train_loader)}\")"
      ],
      "metadata": {
        "colab": {
          "base_uri": "https://localhost:8080/"
        },
        "id": "0MUw-TdF5tdK",
        "outputId": "c8e6776b-70fc-4a0c-d2e3-6b28befb184c"
      },
      "execution_count": 153,
      "outputs": [
        {
          "output_type": "stream",
          "name": "stdout",
          "text": [
            "Epoch 1, Loss: 1.3696169418948037\n",
            "Epoch 2, Loss: 1.2116289040872028\n",
            "Epoch 3, Loss: 1.1369799017906188\n",
            "Epoch 4, Loss: 1.102605909534863\n",
            "Epoch 5, Loss: 1.0890633072171891\n",
            "Epoch 6, Loss: 1.078010534601552\n",
            "Epoch 7, Loss: 1.0728183814457484\n",
            "Epoch 8, Loss: 1.0684121502297266\n",
            "Epoch 9, Loss: 1.0675831654242107\n",
            "Epoch 10, Loss: 1.065283238036292\n",
            "Epoch 11, Loss: 1.0411753399031503\n",
            "Epoch 12, Loss: 1.0012956830007689\n",
            "Epoch 13, Loss: 0.9676940896681376\n",
            "Epoch 14, Loss: 0.9511705719998904\n",
            "Epoch 15, Loss: 0.9445754425866263\n",
            "Epoch 16, Loss: 0.9416995365704809\n",
            "Epoch 17, Loss: 0.9376165196299553\n",
            "Epoch 18, Loss: 0.9378507541758674\n",
            "Epoch 19, Loss: 0.9357237783925874\n",
            "Epoch 20, Loss: 0.9350709770406995\n"
          ]
        }
      ]
    },
    {
      "cell_type": "code",
      "source": [
        "snet.eval()\n",
        "correct = 0\n",
        "total = 0\n",
        "with torch.no_grad():\n",
        "    for images, labels in test_loader:\n",
        "        images, labels = images.to(device), labels.to(device)\n",
        "        outputs = snet(images)\n",
        "        _, predicted = torch.max(outputs.data, 1)\n",
        "        total += labels.size(0)\n",
        "        correct += (predicted == labels).sum().item()\n",
        "\n",
        "accuracy = 100 * correct / total\n",
        "print(f'Accuracy of the model on the test set: {accuracy:.2f}%')\n",
        "\n",
        "correct = 0\n",
        "total = 0\n",
        "with torch.no_grad():\n",
        "    for images, labels in train_loader:\n",
        "        images, labels = images.to(device), labels.to(device)\n",
        "        outputs = snet(images)\n",
        "        _, predicted = torch.max(outputs.data, 1)\n",
        "        total += labels.size(0)\n",
        "        correct += (predicted == labels).sum().item()\n",
        "\n",
        "accuracy = 100 * correct / total\n",
        "print(f'Accuracy of the model on the train set: {accuracy:.2f}%')"
      ],
      "metadata": {
        "colab": {
          "base_uri": "https://localhost:8080/"
        },
        "id": "j24Pes1U8xhL",
        "outputId": "a22492f6-e211-40a9-ecea-a286c1b59aa4"
      },
      "execution_count": 154,
      "outputs": [
        {
          "output_type": "stream",
          "name": "stdout",
          "text": [
            "Accuracy of the model on the test set: 98.43%\n",
            "Accuracy of the model on the train set: 98.44%\n"
          ]
        }
      ]
    },
    {
      "cell_type": "code",
      "source": [
        "def saliency(model, single_input):\n",
        "    single_input.requires_grad = True\n",
        "\n",
        "    # Forward pass\n",
        "    predictions = model(single_input)\n",
        "\n",
        "    # Assuming a regression task, use the output directly\n",
        "    model.zero_grad()\n",
        "    predictions.backward(torch.ones_like(predictions))\n",
        "\n",
        "    # Gradients of the model's output with respect to the input\n",
        "    gradients = single_input.grad.abs().data.numpy()\n",
        "\n",
        "    return gradients"
      ],
      "metadata": {
        "id": "JC2gKn6raweB"
      },
      "execution_count": null,
      "outputs": []
    },
    {
      "cell_type": "code",
      "source": [
        "plt.figure(figsize=(12, 4))\n",
        "for i in range(10):\n",
        "    saliency_map = saliency(model, X_tensor[i:i+1])\n",
        "    plt.subplot(2, 5, i + 1)\n",
        "    #plt.imshow(saliency_map.reshape(-1, 3))\n",
        "    plt.imshow(saliency_map)\n",
        "    plt.axis('off')\n",
        "\n",
        "plt.tight_layout()\n",
        "plt.show()"
      ],
      "metadata": {
        "id": "jGMS6N7Vawbs"
      },
      "execution_count": null,
      "outputs": []
    },
    {
      "cell_type": "code",
      "source": [],
      "metadata": {
        "id": "PuuC5eaBawVV"
      },
      "execution_count": null,
      "outputs": []
    },
    {
      "cell_type": "code",
      "source": [
        "X_t, y_t= pickle.load(gzip.open(\"flatland_test.data\", 'rb'))\n",
        "X_t = X_t / 255\n",
        "X_t_tensor = torch.tensor(X_t, dtype=torch.float32)\n",
        "X_t_tensor = X_t_tensor.to(device)\n",
        "X_t_tensor = X_t_tensor.unsqueeze(1)"
      ],
      "metadata": {
        "id": "Amn7kWpx78S-"
      },
      "execution_count": 155,
      "outputs": []
    },
    {
      "cell_type": "code",
      "source": [
        "snet.eval()\n",
        "with torch.no_grad():\n",
        "  outputs = snet(X_t_tensor)\n",
        "  _, predicted = torch.max(outputs, 1)"
      ],
      "metadata": {
        "collapsed": true,
        "id": "8JVl0kGO8YnS"
      },
      "execution_count": 156,
      "outputs": []
    },
    {
      "cell_type": "code",
      "source": [
        "predicted = predicted.cpu()\n",
        "predicted_list = predicted.tolist()"
      ],
      "metadata": {
        "id": "dcslOBXrO4yb"
      },
      "execution_count": 157,
      "outputs": []
    },
    {
      "cell_type": "code",
      "source": [
        "predicted_list = [x + 2 if x != 0 else x for x in predicted_list]"
      ],
      "metadata": {
        "id": "DXMjbm38PyPN"
      },
      "execution_count": 158,
      "outputs": []
    },
    {
      "cell_type": "code",
      "source": [
        "predicted_string = ''.join(map(str, predicted_list))\n",
        "print(predicted_string)"
      ],
      "metadata": {
        "colab": {
          "base_uri": "https://localhost:8080/"
        },
        "id": "_L6Yco-zztjM",
        "outputId": "f4941aef-ffcc-4ecd-d9e1-c270cdb2f636"
      },
      "execution_count": 159,
      "outputs": [
        {
          "output_type": "stream",
          "name": "stdout",
          "text": [
            "6645533343400063340545465645540453050355560333004353364366654054553303655503043350530654500355355463530403355345345040035360650004555530445455543654345046545635635636546303536656365660360305665463536336353336335465353306053566453360450054500063446060346543400453633455446546354503345300344553655053533306444555353443403030605300054655506334560544330054364500443044350645463346050306554305553645045355533336636330650644345554354535063644433563304055544504505345553050664300303444544504030306344006554333400506436544330334035643434343650403330363543435603556453440550543403430450555505303434536654355435035004453066464566036403330463455364406563043554443345350503053556650564533336350334356344353343060333043443433504546433334035630054450544503643600503355633556300555303033036463444460546453433660605604345455536403330035505464066564430553033365340544530633543635653364030035430440356534344063556033036433354560635036440504640055344340360630645656404363635646435404000565355305364603035300453665355504454560356055300453055344643054505003540633033300355365455353044363454665305346550453446603355040336344366406565034430635645460030055644643430454555666535604534433533403556453455534635504300045363464434440365505440353066633435455505544440035566563444365006465334333654054465343000434456346455433440434444330354534565055636553350466366565444065035404305464055003066363646443506034056346345655353030553036546534303465553566303500330536353436333434335066335534554335543636533053664463644460404363630445655330334564353535300043333343453445054535566334303000404403305345440056456654646036363046453663443444334334364535344333565433446553504546563540503053035566330536553405563434335030303564065630335554353604546660446546334655046034645633405050533554434534053504534405565040353534050034445565535546505453535630533063453436563543544605056505045536044436553044440033540300365553465030335635304543503564033033543435654055553346400556553443446453556044360305553305600055344056563654053560300656335553436354636400330664340433345565444300563355535004040300460055555046565654663363660654645500503003630650436003554440605564505646630346355433505530004404465444333403544403353305434635435445550503645406353043335346063545366004536504054343043033336453304430466340455433534534546333403355665553334454634033053654043354455536550535533346333434535463464434035503535343436354653634550440500435666345606454665640553544340635346054344304443504545543555060034444434435505505546056505054354430550453306065556535536005634355634443355443436333404335350534644440440545463535040636333635444354445040543006505653655360446635554036306434533006445454004534466356330350345040343305300544054345436344534604554430665300406443045344343330335335056053454306403345334566006634436303345550553600560654453633334506505530505454535403560354435455553634040053405653554645635345450353400465565535430003533563334533506546403653530434654540343400453654430433000355656550305343654335630366533560345044400350504444543035603563050306033344665435655030343535346555005546533663660360430535500665336003655054533553303006404450450634554536533463300535503360036660050405034434454335060445450303343443055545544335343330055464646043364344634436445334043030353350433055033503455534653363030544354304633534535330666330045505005663635345535334344404364433545505543543504363455364430445430535344505443000655533404304553404645565353500035505645536635353336405044460044504306453444053003540444443605544643530653430364663560334463546064033535564663345340534036465533560355556644334504545356446435043330000534403446344565465064554063655545056533535530450566530553356643363553453456305045534303540053455366356555536434054604033444343434050564556355435335343633055430044454446560054445633606044355553444330444403453356403504340435330335464553365063505053666400503343035363405346543530544463644305400303550645653340666304453656660043403354334663054500044040500435660540556563334434336336363453544360300356304455553445334043305004353335654660655335543340534444563060545650554536434443463400404005455505436400500000063443330566564605353305643355000563435365555645655433406335063566553500653535654630534444345055343545305656654644306463450036046463034550033543340354543564553503564656055403630566030534404035343554053034363044364045355544355303463565306545363406335534546646653500550646504344500345435643630505536343435300363643530353436600330535535304635555404054634506555366353545345355400430305533554000345350535005653053443654636635650630534606340066305304565354633455355455503600054533434355446356440350530650453503444530334353043044603354035330305450533640405355666543050563433333663636354435463033530543635350430066600034363434554334333055005335554643463563440005464440305003046440443634503300000633634654433533665505565343540005454453634435034463445603540555543540533344640433530543355406440604555644404605530003653553300653533334050334644403600464446460453506546504355350553343646335604355344465540443303500303655540656333503345330533455454450036656053604334340533036436336553535630550553343006003330555604503650663344643353444343653450355545335533503554563304506665535536305444056464503445466556453534336536440406656533060345540545544403630555336443430440603353034634556556344454343330053634304340660403044333433450543535530554563303565553304360336430335065665356063533063460635034533643053054545065036350355354434403564433444543653546504430646436035564633456530303564346033503636400004563555354545563433053043636330443444434545345353456343360363635030063454036330565043460505456545343406653405403335555056043040504443034063506000333553005535035644550656303030055603630553035054353055460454534033545465335333545453554553046305405444433544554604553334034644435660453463063500334600045334336050344466654053533004446555543553633655640334505336503056633463644005653534363303406344503035354304433604636333345630035066355354333003344644665445540045440564543500305553344056334545404344365605545040055334635300554304564403405530555534306344666535535040454454454436343564065633305645550543634053335334450346434300360600534655040034055403404555303435534306645354344655540065354334000550353503650003546535355340350400553433550660034343635035336335564364334536654443540044035303306360554344433033543364443033605035353445336404453306045053050603036553544055540464463055550545444333065544403534354655356400640354460050465545363344350043655055435356634033045360355653505054350435655634435604333433530533363636043000634404655330655033035055345554345634436553363436656453433363543404503443454456545363344340505304503036530553363000633054430503045304005335335340356333430463554655443505544053550346363034035353544044553030334305466364063434460554506643556536343006544030365546560005356333453533003404553354035430466444034553506435543303506665035443353633353366300365536055446456430533333564440554336533353455553665355645400400534054630634306653645560044540456345533434634654536545360355435355633450635445333006553556464364643446356345355635663503560450544446543335604443545033454333405303666665060360350365044034645664400456434534566640536065430463504033443546044300353455345635464350666454450636440355546036350366400645365356404344450453635364353534043650305033053545363046606356355604330543604053466644305533353665333464333354663534354645433345356404404555040406434544454345464333645530336500050535433433630464536335550556536504340045344356466566665034350063335553505430456604346345334443665535660354444543440436406045000554564446436305335544355455343303333345446563453530534653465355650333534053335056336304304000060055640554053344000456544640504066063660543303630503034660036544435364054544653065434033533360406443555305534656534560043343553363656444456564540304550550345606004403606046455653433536355533330304005433456405553556353330534535645005656300366345365004433443540553065530004554664344055436333553345345063634064050634356005505443545446366333333065346555050603665335044366534444050063545304463335643530343343006033545443646653665405655554353435545403505353303536300303455306604463503305550036656530354004364545643440403360303056450443450044534633440603655306354346536435433464464433455000336334504455646643343430405433655534554434430460334463643030644433440334640630346054304443403544533436636563455064443633645633550035304403544045303633504436536403604363550443560300443660340655356450346533003335033366453455545443366460440534430645530345303456645434036365304346305034406003344456003006330665650645033545303463460364403453055534534533300330044546535665555554033505350334500405343454454635565655455503464555554030430005665306334660333036455544500543004460335653563304344034430304635434033303304405454663545064043033430045064550056634453300035344546636436335555555445354053640543034350665333366445650505464503305063353430443543563500553353343555335555054003556660353346400036554033360563036353664455533540463305646453460063600500454363656555364363303604665664363555004440336065640354504530534446445544335664646304033046344355433356633530363444333340353355005605565560435364053555360466006436450436034465435356350546445333534335345033334433063444300534443536600505304650556404454555563545454053033340363045430536056443555454530546505635343554004033543644033560035666556643630004345633604543354034435355345303533504433650654530506366653034653030034340446565604334653366344354453065503034330333530630003533634305350000004554046665404356553443504300635036560563465355645633345653435000445066605333033064453656303666364350666536306335444356354553550666340344505355550466563403455353646055545003033343433440353506633344665405455636055036400305645033553303345305365503456305334436533555006053634453443345035344340635030505463055035333045454005354630655450354430453345455030656535400434350533445035060346555343506646636355033350436054456046355450455444555456543030556344335660003454633636643444030534546404500603046355004535353554506650550504554500350604344634543445334406356356454450454545050655603364040533354654633433440564455444306553000605446505333644035433405430535\n"
          ]
        }
      ]
    },
    {
      "cell_type": "code",
      "source": [
        "predicted_string = ''.join(map(str, predicted_list))\n",
        "print(predicted_string)"
      ],
      "metadata": {
        "colab": {
          "base_uri": "https://localhost:8080/"
        },
        "id": "-J_Y4YbFDAYH",
        "outputId": "bee11864-5b2f-44da-e1f5-a82c7cf34f09"
      },
      "execution_count": null,
      "outputs": [
        {
          "output_type": "stream",
          "name": "stdout",
          "text": [
            "6645533343400063340545465645540463050355660333004363364366664004553303655503043350530644500355355463530403355345345040035360650004455530445455543654345046545635635636546303536656365660360305666463536336353336336465353306053566453360450054500063446060346643400453633456443546354503346300344553655053533306444055363443403030605300064655506334560544330054334500443044350645463346060306534305453645045356533336636330660644345534354534043644433663304055544504505345553050664300303444544504030306344006554333400506636544330334035643434343650403330363543435603556443440550643403430450565505303434536654355435035004453066464566036403330463456364406563043554443345350463053566660564533336350334356344353343060333043443433504546433334036630054450544503643600503355633656300553303033036463444400546453433660605604345456536403330035505464066564430553033365340544530633643635653364030035430440356534344063556033036433354560635036440504640065344340360630645656404363635646435404000566355305364603035300453665355604454540366065300453055344643054505003640633033300355364455363044363454365305346550453446603355040336344366406566034430635645460030055644643436454555666535604534433533403656453455534635504300045363464434440365505440353066633435455505544440035566563444365006465334333654054465343003434466346465433440434444330364534565056636553350466366665444065035404305464055003066363646443506034056346345655363030503036546534303465653566303600330536353436333434335066330534556336543636533063664463644460404363630445655330334564353535300043333343453445064635566334303000404403305345440056456454646036363046453463443444334334364535344333565433446553504546563640503053035566330536553405563434335030303564035630335564353604646660446546334656446034645633405050533554434534053504534405566040353534050034445565535646605453535630533063453436563543544605056506044536044436563044440033640300305503465030335635304543503564033033543435664056553346400556563443446463556044360305553306600055344056563654053560300656335553436354636400330664340433345565444300563355536004040300460065555046564054663363660654645500503003630650436003654440605564505646630346355433505030004404465444333403544403353305434630435445550503645406353043335346063545366004536504054343043033336453304430466340456433534534536333403355666553334454634033053654043354455536650536533346333434535463464434035503535343436364653634550440500435666345606454665640553644340635346054344304443504645543556060034444434435605505646056505054364430550453306065566335536005634355634443355443436333404335300534644440440545463435040636333636444354445040543006605653655360446635564036306434533006445454004534466356330350345040343305300544054345636344534604554430666300406443045344343330335336056053404306403345334506006634436303345550653600560654463633334506505430605464635403660354436456553034040053405653564645635345400353400465565535430003533463334533506646403603630434654540343400453654430433000355666550305343654336630366533660345044400350004444543035603563050306033344665435655030343536346556005546533663360360430535500665336003655054533553303006404450450634554533533463300535503360036660040405034434464335060446450303343443050545544333343330055464646043364344636436445334043030353350433055033603455534653363030644354304633634536330666330045505005663635345635334344404364433545505543543504363456364430445430535344005443000655533404304553404644665353400035505645536635353336400044460044504306453444053003540444443605544643530633430364663560334463546064033535564663345340434036465533560355556644334504545366446435043330000534403446344565465064664063655544056533536530460566530553366043363553453456305045534303640053455366366565536434064604033444343434050564556366435335343633054430044454646560054446633606044356663444330444403453356403504340435330335464553365063505053666400503343035363405346543530544463644305400303050645653340666304453636660043403354334663054500044040500435660540356663334434336336363453544360300356304455653446334043305004353335654660445335543340534444563060645650564536434443463400404005455505436460500000063443330566564665353305643355000563435365655645656433406335063566553500653635654630534444345055343545305656664644306463440036046463034550033543340354543564563503564656055403630566030534404035343554053034363044364045365544355303463566306545363406335534546646653500550646504344500340435643430505536343430300363643530353436606330535535304635565444054634506555366353545345355400430305533654000345360535005653063443654636635650630534606340066305304566354633455355455503600054533434356446356440350530650453503444530334353043044603354035330305450533640405355666543060563433333663636354435463033530043635350430066600034363434554334333065006336554643463563440005464440305003046440443634503300000633634654433533665605665343540005454463634435034463446603640555543540533344640433530543355406440604656644404605530003603553300653533334050334644403600464446460453606446504355350553343646335604355344465540443303500303655540656333503345330533456454450036666053604334340533036436336553535630550563343006003330555604503650663344663353444343653450354540335533503654563304506665535636303444056464503445466556453534336536440406656533060345640545544403630555336443430440603353034634556566344464343330053634304340665403044333433450643535530554563303565553304360336430335065665366063533063460635034533643053064546066036350355364434403564433444643653546504430646436035564633456530303564346033503436400004563555354646663433053043636330443444434545346353456343360363635030063464036330665043460505456545343406653406403335555066043040504443034063506000333653005635035344500656303030065603630353035054343055460454534033544465335333565453554563046305405444433564554604553334034644435660463463063500334600045334336050344466654053533004446055543553633656640334405336503056633463644006633534363303406344503035354304433604636333345630035066355354333003344646665445540045440564543500305553344056334545404344365605545040055334635300654304564403405530555534306344666635536040454454454436343564066633305646650543634053335334450346434300360600534655040034065403404555303435534306645354344665440066354334000650353503550003546535354346350400553433650660034343635030336335564364334536654443540044034303306360554344433033543364443033605035353446336404453306045063060603036503644055540464463055550545444333065544403534354655356400640354460050465545363344350043656055435366634033045360365653505054350430656634436604333433530533363636043000634404656330665033035055345654340634436553343436656453433363543404503443454456645363344340505304503036530553363000633054430503045304005335335340346333430463454655443406544053550346363034035353644044553030334305466364063434460554506643556536343006544030365546560005356333453533003404553354035430466444034553306435543303606665035443353633353366300366536055446456430533333564440564336533353455543665345645400400534054630334306653646560044540456345533434634654536545360355436356633450635445333406563656464364643446356343355635663503560450644446543335604443546033454333406303666665060360350365044034645664400456434534566640536065430463504033443546044300363455345635464350666454450636440355546030350356400645365356404344450453635364353634043650305033003545363046606356355604330543604063466644305533353665333464333354663634354645433345356404404556040406434544454345464333645530336500050535433433630464536335550556636504340045344356466666665034350063335553505430456304346346334443665535660354444543440436406046000654564446436305335544355455343303333345446563453530534653465346650333534053335056336304304000060055640554053344000456644440504066063660543303630503034660036544435364054544663065434033533360406443565306434656534560043343563363656444456664540304650550345606004403606046455653433636355533330303005433456405563556363330534535665005666300366345365004433443540553066530004554664344055436333553345345063034064050634356006506443444446366333333035346665050603665335044366534444050063546304463335643530343343006033545443646653665405655554353435545403605353303536300303455306604463503306540036656530354004364545643440403360303066440443450044534633440603654306344346536435433464464433456000336334504445646643343430405433655534554434430460334463443030644433440334640630346064304443403544533436636563455064443633645633550035304403544045303633604436534403604363550443560300443660340655356450346533003335033366453455545443366460440534430645530346303456645434036364304346305034406003344456003006330665650640033545304463460364403453056534534533300330044346535665555554033505360334500405343464444635565655455503464555554030430005665306334660333036445644500643004460335653563304344034430304635434033303304405454663645064043033430045064550056634453300036344646636436335655565445354053640643034350665333366445650605464503305063353430443643563500553363343565335555454003556660353346400036554033300563036353664455433540463305646453460063600500454363656555364363303604665664363355004440336066640364504530634446446544335664646304033046344355433356633530363444333340353355005604565560435364053556360466006436450436034465436356350546445333534335345033334433063444300534443536600505304650556404454555663545454053033340363045430536056443565454530546405635343664004033543644033560035666556643630604345033604543354434435355345303633564433650654530406366653034653030034340443566604334663366344354453066403434330333530630003533634305350000004554046665404303553443504300635036560663465355645033345643436000445066605333033064453656303666364360666536306335444356354553550666340344505355550466503403455363646055545003033343433440353506633344665405455636056036400305646033553303345305365503464305334436533555006053034453443345035344340636030505463055036333045454006354630655450354430453346455030656535400434350533444035060346555343506646636355033360436054466046365450455444555456543030556344335660003464633636643444030634546404500603046365004636353554506650550504554500350604344634543445334400366366454450454545050655603364046533354654633433440564455444306653000606444605333644035433406430535\n"
          ]
        }
      ]
    },
    {
      "cell_type": "code",
      "source": [
        "torch.save(snet.state_dict(), 'cnn_model.pth')"
      ],
      "metadata": {
        "id": "UnUupRgAcbNU"
      },
      "execution_count": 160,
      "outputs": []
    }
  ]
}