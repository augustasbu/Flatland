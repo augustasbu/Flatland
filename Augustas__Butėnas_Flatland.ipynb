{
  "nbformat": 4,
  "nbformat_minor": 0,
  "metadata": {
    "colab": {
      "provenance": [],
      "gpuType": "T4",
      "toc_visible": true
    },
    "kernelspec": {
      "name": "python3",
      "display_name": "Python 3"
    },
    "language_info": {
      "name": "python"
    },
    "accelerator": "GPU"
  },
  "cells": [
    {
      "cell_type": "code",
      "execution_count": 18,
      "metadata": {
        "id": "cdxSyjVhk0Uu"
      },
      "outputs": [],
      "source": [
        "import numpy as np\n",
        "from sklearn.model_selection import train_test_split\n",
        "import pickle, gzip\n",
        "import torch\n",
        "import torch.nn as nn\n",
        "import torch.nn.functional as F\n",
        "import torch.optim as optim\n",
        "from torch.utils.data import Dataset, DataLoader, TensorDataset\n",
        "from torchvision import datasets, transforms\n",
        "import matplotlib.pyplot as plt"
      ]
    },
    {
      "cell_type": "code",
      "source": [
        "X, y = pickle.load(gzip.open(\"flatland_train.data\", 'rb'))"
      ],
      "metadata": {
        "id": "xTW2iKKJDD61"
      },
      "execution_count": 7,
      "outputs": []
    },
    {
      "cell_type": "code",
      "source": [
        "y[y!=0] -= 2"
      ],
      "metadata": {
        "id": "t6XKksIFJ-mC"
      },
      "execution_count": 8,
      "outputs": []
    },
    {
      "cell_type": "code",
      "source": [
        "X = X / 255.0\n",
        "X = np.expand_dims(X, axis=1)"
      ],
      "metadata": {
        "id": "7l17YSblJ0AP"
      },
      "execution_count": 9,
      "outputs": []
    },
    {
      "cell_type": "code",
      "source": [
        "# Train/test split\n",
        "X_train, X_test, y_train, y_test = train_test_split(\n",
        "    X, y,\n",
        "    test_size=0.3, random_state=36, shuffle=True)\n",
        "\n",
        "# Convert them to PyTorch tensors\n",
        "X_train_tensor = torch.tensor(X_train, dtype=torch.float32)\n",
        "y_train_tensor = torch.tensor(y_train, dtype=torch.long)\n",
        "X_test_tensor = torch.tensor(X_test, dtype=torch.float32)\n",
        "y_test_tensor = torch.tensor(y_test, dtype=torch.long)"
      ],
      "metadata": {
        "id": "O5-H2h0ZHsIm"
      },
      "execution_count": 10,
      "outputs": []
    },
    {
      "cell_type": "code",
      "source": [
        "# Define augmentation pipeline\n",
        "data_augmentation = transforms.Compose([\n",
        "    #transforms.RandomRotation(degrees=(-10, 10)),   # Rotate images\n",
        "    transforms.RandomHorizontalFlip(),  # Horizontal flip\n",
        "    transforms.RandomVerticalFlip(),    # Vertical flip\n",
        "])\n",
        "\n",
        "# Define a function to apply augmentation\n",
        "def augment_dataset(dataset, num_augments=3):\n",
        "    augmented_X, augmented_y = [], []\n",
        "    for X_img, y_label in dataset:\n",
        "        # Apply augmentation multiple times\n",
        "        for _ in range(num_augments):\n",
        "            augmented_X.append(data_augmentation(X_img))\n",
        "            augmented_y.append(y_label)\n",
        "\n",
        "    return torch.stack(augmented_X), torch.tensor(augmented_y)"
      ],
      "metadata": {
        "id": "G3AAN7zcFYRM"
      },
      "execution_count": 11,
      "outputs": []
    },
    {
      "cell_type": "code",
      "source": [
        "# Tansforming pictures and adding them to our train data\n",
        "dataset = TensorDataset(X_train_tensor, y_train_tensor)\n",
        "X_train_tensor_new, y_train_tensor_new = augment_dataset(dataset)\n",
        "X_train_tensor = torch.cat((X_train_tensor, X_train_tensor_new), dim=0)\n",
        "y_train_tensor = torch.cat((y_train_tensor, y_train_tensor_new), dim=0)"
      ],
      "metadata": {
        "id": "pEIxU1XaGB0h"
      },
      "execution_count": 12,
      "outputs": []
    },
    {
      "cell_type": "code",
      "source": [
        "first_image = X_train_tensor[4].squeeze()\n",
        "plt.imshow(first_image.numpy(), cmap='gray')\n",
        "plt.show()"
      ],
      "metadata": {
        "colab": {
          "base_uri": "https://localhost:8080/",
          "height": 432
        },
        "id": "Qrg_8artLVdK",
        "outputId": "39c1035b-2e5d-4e1c-df7f-31ed9772ce98"
      },
      "execution_count": null,
      "outputs": [
        {
          "output_type": "display_data",
          "data": {
            "text/plain": [
              "<Figure size 640x480 with 1 Axes>"
            ],
            "image/png": "[encoded data removed]"
          },
          "metadata": {}
        }
      ]
    },
    {
      "cell_type": "code",
      "source": [
        "first_image = X_train_tensor_new[2].squeeze()\n",
        "plt.imshow(first_image.numpy(), cmap='gray')\n",
        "plt.show()"
      ],
      "metadata": {
        "colab": {
          "base_uri": "https://localhost:8080/",
          "height": 432
        },
        "id": "iSYsWXOBK3bm",
        "outputId": "e0e9c8c8-de5a-4843-9d7c-ae898e832121"
      },
      "execution_count": null,
      "outputs": [
        {
          "output_type": "display_data",
          "data": {
            "text/plain": [
              "<Figure size 640x480 with 1 Axes>"
            ],
            "image/png": "[encoded data removed]"
          },
          "metadata": {}
        }
      ]
    },
    {
      "cell_type": "code",
      "source": [
        "# Create DataLoader objects for batching\n",
        "train_dataset = TensorDataset(X_train_tensor, y_train_tensor)\n",
        "test_dataset = TensorDataset(X_test_tensor, y_test_tensor)\n",
        "\n",
        "train_loader = DataLoader(train_dataset, batch_size=100, shuffle=True)\n",
        "test_loader = DataLoader(test_dataset, batch_size=100, shuffle=False)"
      ],
      "metadata": {
        "id": "jBzCiVw6GjxO"
      },
      "execution_count": 13,
      "outputs": []
    },
    {
      "cell_type": "code",
      "source": [
        "device = \"cuda\"  #'cpu'"
      ],
      "metadata": {
        "id": "BYMgVmXiOLA7"
      },
      "execution_count": 4,
      "outputs": []
    },
    {
      "cell_type": "code",
      "source": [
        "class SmallNet(nn.Module):\n",
        "    def __init__(self):\n",
        "        super(SmallNet, self).__init__()\n",
        "        # Convolutional layers\n",
        "        self.conv1 = nn.Conv2d(1, 8, kernel_size=3, padding=1)\n",
        "        self.bn1 = nn.BatchNorm2d(8)\n",
        "        self.conv2 = nn.Conv2d(8, 16, kernel_size=3, padding=1)\n",
        "        self.bn2 = nn.BatchNorm2d(16)\n",
        "        self.pool = nn.MaxPool2d(2, 2)\n",
        "        self.conv3 = nn.Conv2d(16, 16, kernel_size=3, padding=1)\n",
        "        self.bn3 = nn.BatchNorm2d(16)\n",
        "        # Dense layers\n",
        "        self.fc1 = nn.Linear(16*12*12, 32)   # Adjusted for the output size after conv and pooling layers\n",
        "        self.dropout = nn.Dropout(0.3)\n",
        "        self.fc2 = nn.Linear(32, 5)\n",
        "\n",
        "    def forward(self, x):\n",
        "        x = F.relu(self.bn1(self.conv1(x)))\n",
        "        x = F.relu(self.bn2(self.conv2(x)))\n",
        "        x = self.pool(x)\n",
        "        x = F.relu(self.bn3(self.conv3(x)))\n",
        "        x = self.pool(x)\n",
        "        x = torch.flatten(x, 1)  # Flatten all dimensions except batch\n",
        "        x = F.relu(self.fc1(x))\n",
        "        x = self.dropout(x)\n",
        "        x = self.fc2(x)\n",
        "        x = F.softmax(x, dim=1)\n",
        "        return x\n",
        "\n",
        "snet = SmallNet().to(device)\n",
        "\n",
        "# Loss function and optimizer\n",
        "criterion_f = nn.CrossEntropyLoss()\n",
        "optimizer_f = optim.Adadelta(snet.parameters())"
      ],
      "metadata": {
        "id": "dWPbhsu-5tjy"
      },
      "execution_count": 5,
      "outputs": []
    },
    {
      "cell_type": "code",
      "source": [
        "# Training loop\n",
        "snet.train()\n",
        "epochs = 20\n",
        "losses = []\n",
        "for epoch in range(epochs):\n",
        "    running_loss = 0.0\n",
        "    for images, labels in train_loader:\n",
        "        images, labels = images.to(device), labels.to(device)\n",
        "\n",
        "        optimizer_f.zero_grad()\n",
        "        outputs = snet(images)\n",
        "        loss = criterion_f(outputs, labels)\n",
        "        loss.backward()\n",
        "        optimizer_f.step()\n",
        "\n",
        "        running_loss += loss.item()\n",
        "    losses.append(running_loss / len(train_loader))\n",
        "    print(f\"Epoch {epoch+1}, Loss: {running_loss/len(train_loader)}\")"
      ],
      "metadata": {
        "colab": {
          "base_uri": "https://localhost:8080/"
        },
        "id": "0MUw-TdF5tdK",
        "outputId": "c8e6776b-70fc-4a0c-d2e3-6b28befb184c"
      },
      "execution_count": null,
      "outputs": [
        {
          "output_type": "stream",
          "name": "stdout",
          "text": [
            "Epoch 1, Loss: 1.3696169418948037\n",
            "Epoch 2, Loss: 1.2116289040872028\n",
            "Epoch 3, Loss: 1.1369799017906188\n",
            "Epoch 4, Loss: 1.102605909534863\n",
            "Epoch 5, Loss: 1.0890633072171891\n",
            "Epoch 6, Loss: 1.078010534601552\n",
            "Epoch 7, Loss: 1.0728183814457484\n",
            "Epoch 8, Loss: 1.0684121502297266\n",
            "Epoch 9, Loss: 1.0675831654242107\n",
            "Epoch 10, Loss: 1.065283238036292\n",
            "Epoch 11, Loss: 1.0411753399031503\n",
            "Epoch 12, Loss: 1.0012956830007689\n",
            "Epoch 13, Loss: 0.9676940896681376\n",
            "Epoch 14, Loss: 0.9511705719998904\n",
            "Epoch 15, Loss: 0.9445754425866263\n",
            "Epoch 16, Loss: 0.9416995365704809\n",
            "Epoch 17, Loss: 0.9376165196299553\n",
            "Epoch 18, Loss: 0.9378507541758674\n",
            "Epoch 19, Loss: 0.9357237783925874\n",
            "Epoch 20, Loss: 0.9350709770406995\n"
          ]
        }
      ]
    },
    {
      "cell_type": "code",
      "source": [
        "#Loading in model from file uploaded in github\n",
        "snet.load_state_dict(torch.load('cnn_model.pth'))"
      ],
      "metadata": {
        "colab": {
          "base_uri": "https://localhost:8080/"
        },
        "id": "LchEpExGgVJV",
        "outputId": "1bbe58b9-0aa0-4b24-c98d-f78980d31b08"
      },
      "execution_count": 6,
      "outputs": [
        {
          "output_type": "stream",
          "name": "stderr",
          "text": [
            "<ipython-input-6-ad9bfa36d16e>:2: FutureWarning: You are using `torch.load` with `weights_only=False` (the current default value), which uses the default pickle module implicitly. It is possible to construct malicious pickle data which will execute arbitrary code during unpickling (See https://github.com/pytorch/pytorch/blob/main/SECURITY.md#untrusted-models for more details). In a future release, the default value for `weights_only` will be flipped to `True`. This limits the functions that could be executed during unpickling. Arbitrary objects will no longer be allowed to be loaded via this mode unless they are explicitly allowlisted by the user via `torch.serialization.add_safe_globals`. We recommend you start setting `weights_only=True` for any use case where you don't have full control of the loaded file. Please open an issue on GitHub for any issues related to this experimental feature.\n",
            "  snet.load_state_dict(torch.load('cnn_model.pth'))\n"
          ]
        },
        {
          "output_type": "execute_result",
          "data": {
            "text/plain": [
              "<All keys matched successfully>"
            ]
          },
          "metadata": {},
          "execution_count": 6
        }
      ]
    },
    {
      "cell_type": "code",
      "source": [
        "# Calculating accuracy\n",
        "snet.eval()\n",
        "correct = 0\n",
        "total = 0\n",
        "with torch.no_grad():\n",
        "    for images, labels in test_loader:\n",
        "        images, labels = images.to(device), labels.to(device)\n",
        "        outputs = snet(images)\n",
        "        _, predicted = torch.max(outputs.data, 1)\n",
        "        total += labels.size(0)\n",
        "        correct += (predicted == labels).sum().item()\n",
        "\n",
        "accuracy = 100 * correct / total\n",
        "print(f'Accuracy of the model on the test set: {accuracy:.2f}%')\n",
        "\n",
        "correct = 0\n",
        "total = 0\n",
        "with torch.no_grad():\n",
        "    for images, labels in train_loader:\n",
        "        images, labels = images.to(device), labels.to(device)\n",
        "        outputs = snet(images)\n",
        "        _, predicted = torch.max(outputs.data, 1)\n",
        "        total += labels.size(0)\n",
        "        correct += (predicted == labels).sum().item()\n",
        "\n",
        "accuracy = 100 * correct / total\n",
        "print(f'Accuracy of the model on the train set: {accuracy:.2f}%')"
      ],
      "metadata": {
        "colab": {
          "base_uri": "https://localhost:8080/"
        },
        "id": "j24Pes1U8xhL",
        "outputId": "3377be37-b382-49e5-a178-ae5665d79934"
      },
      "execution_count": 14,
      "outputs": [
        {
          "output_type": "stream",
          "name": "stdout",
          "text": [
            "Accuracy of the model on the test set: 98.43%\n",
            "Accuracy of the model on the train set: 98.43%\n"
          ]
        }
      ]
    },
    {
      "cell_type": "code",
      "source": [],
      "metadata": {
        "id": "PuuC5eaBawVV"
      },
      "execution_count": null,
      "outputs": []
    },
    {
      "cell_type": "code",
      "source": [
        "# Importing test set\n",
        "X_t, y_t= pickle.load(gzip.open(\"flatland_test.data\", 'rb'))\n",
        "X_t = X_t / 255\n",
        "X_t_tensor = torch.tensor(X_t, dtype=torch.float32)\n",
        "X_t_tensor = X_t_tensor.to(device)\n",
        "X_t_tensor = X_t_tensor.unsqueeze(1)"
      ],
      "metadata": {
        "id": "Amn7kWpx78S-"
      },
      "execution_count": 15,
      "outputs": []
    },
    {
      "cell_type": "code",
      "source": [
        "#Saliency\n",
        "image = 7 #Select which image to plot\n",
        "\n",
        "X = X_t_tensor[image].unsqueeze(0)\n",
        "#X = X_train_tensor[image].unsqueeze(0)\n",
        "#X = X.to(device)\n",
        "\n",
        "X.requires_grad_()\n",
        "output = snet(X)\n",
        "class_idx = output.argmax(dim=1).item()\n",
        "# Prints the prediction\n",
        "predicted_category = class_idx + 2 if class_idx != 0 else 0\n",
        "print(\"Predicted Category:\", predicted_category)\n",
        "\n",
        "# Compute gradients of the target class with respect to the input image\n",
        "snet.zero_grad()\n",
        "output[0, class_idx].backward()\n",
        "\n",
        "# Get absolute values of the gradients and remove any extra dimensions\n",
        "saliency, _ = torch.max(torch.abs(X.grad.data), dim=1)\n",
        "\n",
        "# Get absolute values of the gradients and remove any extra dimensions\n",
        "saliency = saliency.squeeze().cpu().numpy()\n",
        "# Plot the saliency map\n",
        "\n",
        "plt.imshow(saliency, cmap='hot')\n",
        "plt.colorbar()\n",
        "plt.title(\"Saliency Map\")\n",
        "plt.axis('off')\n",
        "plt.show()\n",
        "\n",
        "#Plot original image\n",
        "plt.imshow(X.squeeze().cpu().detach().numpy(),cmap='gray')\n",
        "plt.title(\"Shape\")\n",
        "plt.axis('off')"
      ],
      "metadata": {
        "colab": {
          "base_uri": "https://localhost:8080/",
          "height": 874
        },
        "id": "Wbs52NzJhvKx",
        "outputId": "41728076-e94f-4ae9-95f8-89f69cc82f97"
      },
      "execution_count": 65,
      "outputs": [
        {
          "output_type": "stream",
          "name": "stdout",
          "text": [
            "Predicted Category: 3\n"
          ]
        },
        {
          "output_type": "display_data",
          "data": {
            "text/plain": [
              "<Figure size 640x480 with 2 Axes>"
            ],
            "image/png": "[encoded data removed]"
          },
          "metadata": {}
        },
        {
          "output_type": "execute_result",
          "data": {
            "text/plain": [
              "(-0.5, 49.5, 49.5, -0.5)"
            ]
          },
          "metadata": {},
          "execution_count": 65
        },
        {
          "output_type": "display_data",
          "data": {
            "text/plain": [
              "<Figure size 640x480 with 1 Axes>"
            ],
            "image/png": "[encoded data removed]"
          },
          "metadata": {}
        }
      ]
    },
    {
      "cell_type": "code",
      "source": [],
      "metadata": {
        "id": "fq-RfUg3ibc-"
      },
      "execution_count": null,
      "outputs": []
    },
    {
      "cell_type": "code",
      "source": [
        "# Test set eval\n",
        "snet.eval()\n",
        "with torch.no_grad():\n",
        "  outputs = snet(X_t_tensor)\n",
        "  _, predicted = torch.max(outputs, 1)"
      ],
      "metadata": {
        "collapsed": true,
        "id": "8JVl0kGO8YnS"
      },
      "execution_count": null,
      "outputs": []
    },
    {
      "cell_type": "code",
      "source": [
        "# Printing out predictions as one string\n",
        "predicted = predicted.cpu()\n",
        "predicted_list = predicted.tolist()\n",
        "predicted_list = [x + 2 if x != 0 else x for x in predicted_list]\n",
        "predicted_string = ''.join(map(str, predicted_list))\n",
        "print(predicted_string)"
      ],
      "metadata": {
        "id": "dcslOBXrO4yb"
      },
      "execution_count": null,
      "outputs": []
    },
    {
      "cell_type": "code",
      "source": [],
      "metadata": {
        "colab": {
          "base_uri": "https://localhost:8080/"
        },
        "id": "_L6Yco-zztjM",
        "outputId": "f4941aef-ffcc-4ecd-d9e1-c270cdb2f636"
      },
      "execution_count": null,
      "outputs": [
        {
          "output_type": "stream",
          "name": "stdout",
          "text": [
            "6645533343400063340545465645540453050355560333004353364366654054553303655503043350530654500355355463530403355345345040035360650004555530445455543654345046545635635636546303536656365660360305665463536336353336335465353306053566453360450054500063446060346543400453633455446546354503345300344553655053533306444555353443403030605300054655506334560544330054364500443044350645463346050306554305553645045355533336636330650644345554354535063644433563304055544504505345553050664300303444544504030306344006554333400506436544330334035643434343650403330363543435603556453440550543403430450555505303434536654355435035004453066464566036403330463455364406563043554443345350503053556650564533336350334356344353343060333043443433504546433334035630054450544503643600503355633556300555303033036463444460546453433660605604345455536403330035505464066564430553033365340544530633543635653364030035430440356534344063556033036433354560635036440504640055344340360630645656404363635646435404000565355305364603035300453665355504454560356055300453055344643054505003540633033300355365455353044363454665305346550453446603355040336344366406565034430635645460030055644643430454555666535604534433533403556453455534635504300045363464434440365505440353066633435455505544440035566563444365006465334333654054465343000434456346455433440434444330354534565055636553350466366565444065035404305464055003066363646443506034056346345655353030553036546534303465553566303500330536353436333434335066335534554335543636533053664463644460404363630445655330334564353535300043333343453445054535566334303000404403305345440056456654646036363046453663443444334334364535344333565433446553504546563540503053035566330536553405563434335030303564065630335554353604546660446546334655046034645633405050533554434534053504534405565040353534050034445565535546505453535630533063453436563543544605056505045536044436553044440033540300365553465030335635304543503564033033543435654055553346400556553443446453556044360305553305600055344056563654053560300656335553436354636400330664340433345565444300563355535004040300460055555046565654663363660654645500503003630650436003554440605564505646630346355433505530004404465444333403544403353305434635435445550503645406353043335346063545366004536504054343043033336453304430466340455433534534546333403355665553334454634033053654043354455536550535533346333434535463464434035503535343436354653634550440500435666345606454665640553544340635346054344304443504545543555060034444434435505505546056505054354430550453306065556535536005634355634443355443436333404335350534644440440545463535040636333635444354445040543006505653655360446635554036306434533006445454004534466356330350345040343305300544054345436344534604554430665300406443045344343330335335056053454306403345334566006634436303345550553600560654453633334506505530505454535403560354435455553634040053405653554645635345450353400465565535430003533563334533506546403653530434654540343400453654430433000355656550305343654335630366533560345044400350504444543035603563050306033344665435655030343535346555005546533663660360430535500665336003655054533553303006404450450634554536533463300535503360036660050405034434454335060445450303343443055545544335343330055464646043364344634436445334043030353350433055033503455534653363030544354304633534535330666330045505005663635345535334344404364433545505543543504363455364430445430535344505443000655533404304553404645565353500035505645536635353336405044460044504306453444053003540444443605544643530653430364663560334463546064033535564663345340534036465533560355556644334504545356446435043330000534403446344565465064554063655545056533535530450566530553356643363553453456305045534303540053455366356555536434054604033444343434050564556355435335343633055430044454446560054445633606044355553444330444403453356403504340435330335464553365063505053666400503343035363405346543530544463644305400303550645653340666304453656660043403354334663054500044040500435660540556563334434336336363453544360300356304455553445334043305004353335654660655335543340534444563060545650554536434443463400404005455505436400500000063443330566564605353305643355000563435365555645655433406335063566553500653535654630534444345055343545305656654644306463450036046463034550033543340354543564553503564656055403630566030534404035343554053034363044364045355544355303463565306545363406335534546646653500550646504344500345435643630505536343435300363643530353436600330535535304635555404054634506555366353545345355400430305533554000345350535005653053443654636635650630534606340066305304565354633455355455503600054533434355446356440350530650453503444530334353043044603354035330305450533640405355666543050563433333663636354435463033530543635350430066600034363434554334333055005335554643463563440005464440305003046440443634503300000633634654433533665505565343540005454453634435034463445603540555543540533344640433530543355406440604555644404605530003653553300653533334050334644403600464446460453506546504355350553343646335604355344465540443303500303655540656333503345330533455454450036656053604334340533036436336553535630550553343006003330555604503650663344643353444343653450355545335533503554563304506665535536305444056464503445466556453534336536440406656533060345540545544403630555336443430440603353034634556556344454343330053634304340660403044333433450543535530554563303565553304360336430335065665356063533063460635034533643053054545065036350355354434403564433444543653546504430646436035564633456530303564346033503636400004563555354545563433053043636330443444434545345353456343360363635030063454036330565043460505456545343406653405403335555056043040504443034063506000333553005535035644550656303030055603630553035054353055460454534033545465335333545453554553046305405444433544554604553334034644435660453463063500334600045334336050344466654053533004446555543553633655640334505336503056633463644005653534363303406344503035354304433604636333345630035066355354333003344644665445540045440564543500305553344056334545404344365605545040055334635300554304564403405530555534306344666535535040454454454436343564065633305645550543634053335334450346434300360600534655040034055403404555303435534306645354344655540065354334000550353503650003546535355340350400553433550660034343635035336335564364334536654443540044035303306360554344433033543364443033605035353445336404453306045053050603036553544055540464463055550545444333065544403534354655356400640354460050465545363344350043655055435356634033045360355653505054350435655634435604333433530533363636043000634404655330655033035055345554345634436553363436656453433363543404503443454456545363344340505304503036530553363000633054430503045304005335335340356333430463554655443505544053550346363034035353544044553030334305466364063434460554506643556536343006544030365546560005356333453533003404553354035430466444034553506435543303506665035443353633353366300365536055446456430533333564440554336533353455553665355645400400534054630634306653645560044540456345533434634654536545360355435355633450635445333006553556464364643446356345355635663503560450544446543335604443545033454333405303666665060360350365044034645664400456434534566640536065430463504033443546044300353455345635464350666454450636440355546036350366400645365356404344450453635364353534043650305033053545363046606356355604330543604053466644305533353665333464333354663534354645433345356404404555040406434544454345464333645530336500050535433433630464536335550556536504340045344356466566665034350063335553505430456604346345334443665535660354444543440436406045000554564446436305335544355455343303333345446563453530534653465355650333534053335056336304304000060055640554053344000456544640504066063660543303630503034660036544435364054544653065434033533360406443555305534656534560043343553363656444456564540304550550345606004403606046455653433536355533330304005433456405553556353330534535645005656300366345365004433443540553065530004554664344055436333553345345063634064050634356005505443545446366333333065346555050603665335044366534444050063545304463335643530343343006033545443646653665405655554353435545403505353303536300303455306604463503305550036656530354004364545643440403360303056450443450044534633440603655306354346536435433464464433455000336334504455646643343430405433655534554434430460334463643030644433440334640630346054304443403544533436636563455064443633645633550035304403544045303633504436536403604363550443560300443660340655356450346533003335033366453455545443366460440534430645530345303456645434036365304346305034406003344456003006330665650645033545303463460364403453055534534533300330044546535665555554033505350334500405343454454635565655455503464555554030430005665306334660333036455544500543004460335653563304344034430304635434033303304405454663545064043033430045064550056634453300035344546636436335555555445354053640543034350665333366445650505464503305063353430443543563500553353343555335555054003556660353346400036554033360563036353664455533540463305646453460063600500454363656555364363303604665664363555004440336065640354504530534446445544335664646304033046344355433356633530363444333340353355005605565560435364053555360466006436450436034465435356350546445333534335345033334433063444300534443536600505304650556404454555563545454053033340363045430536056443555454530546505635343554004033543644033560035666556643630004345633604543354034435355345303533504433650654530506366653034653030034340446565604334653366344354453065503034330333530630003533634305350000004554046665404356553443504300635036560563465355645633345653435000445066605333033064453656303666364350666536306335444356354553550666340344505355550466563403455353646055545003033343433440353506633344665405455636055036400305645033553303345305365503456305334436533555006053634453443345035344340635030505463055035333045454005354630655450354430453345455030656535400434350533445035060346555343506646636355033350436054456046355450455444555456543030556344335660003454633636643444030534546404500603046355004535353554506650550504554500350604344634543445334406356356454450454545050655603364040533354654633433440564455444306553000605446505333644035433405430535\n"
          ]
        }
      ]
    },
    {
      "cell_type": "code",
      "source": [
        "#Export model\n",
        "torch.save(snet.state_dict(), 'cnn_model.pth')"
      ],
      "metadata": {
        "id": "UnUupRgAcbNU"
      },
      "execution_count": null,
      "outputs": []
    }
  ]
}